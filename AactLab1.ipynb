{
  "nbformat": 4,
  "nbformat_minor": 0,
  "metadata": {
    "colab": {
      "provenance": [],
      "authorship_tag": "ABX9TyNoM6L1pf0B/XlCcTVRXH2h",
      "include_colab_link": true
    },
    "kernelspec": {
      "name": "python3",
      "display_name": "Python 3"
    },
    "language_info": {
      "name": "python"
    }
  },
  "cells": [
    {
      "cell_type": "markdown",
      "metadata": {
        "id": "view-in-github",
        "colab_type": "text"
      },
      "source": [
        "<a href=\"https://colab.research.google.com/github/AndresGR302/Programacion-Basica-302-1/blob/main/AactLab1.ipynb\" target=\"_parent\"><img src=\"https://colab.research.google.com/assets/colab-badge.svg\" alt=\"Open In Colab\"/></a>"
      ]
    },
    {
      "cell_type": "code",
      "source": [
        "Actividad de Laboratorio 1 Impresion de Mensaje"
      ],
      "metadata": {
        "id": "LOz-ljwxxqYZ"
      },
      "execution_count": null,
      "outputs": []
    },
    {
      "cell_type": "markdown",
      "source": [],
      "metadata": {
        "id": "mWaN_t6mxpU6"
      }
    },
    {
      "cell_type": "markdown",
      "source": [
        "PB302_1.cpp Programar para Bienvenida"
      ],
      "metadata": {
        "id": "V5socxjkmTh-"
      }
    },
    {
      "cell_type": "code",
      "execution_count": null,
      "metadata": {
        "colab": {
          "base_uri": "https://localhost:8080/"
        },
        "id": "0qKuBt5Klp6n",
        "outputId": "de083752-fd1f-4d8d-ebd5-eba2f31d61ed"
      },
      "outputs": [
        {
          "output_type": "stream",
          "name": "stdout",
          "text": [
            "Overwriting PB302_1.cpp\n"
          ]
        }
      ],
      "source": []
    },
    {
      "cell_type": "code",
      "source": [
        "!g++ PB302_1.cpp -o PB302_1\n",
        "!./PB302_1"
      ],
      "metadata": {
        "colab": {
          "base_uri": "https://localhost:8080/"
        },
        "id": "HpoHisRap0cF",
        "outputId": "d260c582-fef1-48e7-f6be-4c4aad12ebfd"
      },
      "execution_count": null,
      "outputs": [
        {
          "output_type": "stream",
          "name": "stdout",
          "text": [
            "Bienvenido Andres a Programacion Basica en C++\n",
            "Gracias por programar en clase"
          ]
        }
      ]
    },
    {
      "cell_type": "markdown",
      "source": [
        "PB302_2.cpp Programa para imprimir datos personales"
      ],
      "metadata": {
        "id": "SipiGFgjqzeU"
      }
    },
    {
      "cell_type": "code",
      "source": [
        "%%writefile PB302_2.cpp\n",
        "//Programa para Mostrar datos Personales\n",
        "//Creado por Andres Omar Gonzalez Rosas\n",
        "//Fecha:18/Septiembre/2025\n",
        "//PB302_2.cpp\n",
        "#include <iostream>\n",
        "using namespace std;\n",
        "int main()\n",
        "{\n",
        "  char Nombre[10]=\"Andres\";\n",
        "  char Paterno[10]=\"Gonzalez\";\n",
        "  char Materno[10]=\"Rosas\";\n",
        "  int Edad=16;\n",
        "  char Direccion[40]=\"calle aldama articulo 123\";\n",
        "  char FechaNac[20]=\"5/Abril/2009\";\n",
        "  char CiudadNac[20]=\"Ciudad Juarez\";\n",
        "  cout<<\"Tu nombre completo es:\\n\";\n",
        "  cout<<Nombre<<\"\\n\";\n",
        "  cout<<Paterno<<\"\\n\";\n",
        "  cout<<Materno<<\"\\n\";\n",
        "  cout<<Edad<<\"\\n\";\n",
        "  cout<<Direccion<<\"\\n\";\n",
        "  cout<<FechaNac<<\"\\n\";\n",
        "  cout<<CiudadNac<<\"\\n\";\n",
        "  return 0;\n",
        "\n",
        "\n",
        "}"
      ],
      "metadata": {
        "colab": {
          "base_uri": "https://localhost:8080/"
        },
        "id": "tfvAQXHJrHJ0",
        "outputId": "5a525360-b8ab-45e3-ce0e-aff0ca28ffc0"
      },
      "execution_count": null,
      "outputs": [
        {
          "output_type": "stream",
          "name": "stdout",
          "text": [
            "Overwriting PB302_2.cpp\n"
          ]
        }
      ]
    },
    {
      "cell_type": "code",
      "source": [
        "!g++ PB302_2.cpp -o PB302_2.exe\n",
        "!./PB302_2.exe"
      ],
      "metadata": {
        "colab": {
          "base_uri": "https://localhost:8080/"
        },
        "id": "Vs3fwgf9wkrt",
        "outputId": "d0fde997-117d-453c-83ae-c797f83d6ae8"
      },
      "execution_count": null,
      "outputs": [
        {
          "output_type": "stream",
          "name": "stdout",
          "text": [
            "Tu nombre completo es:\n",
            "Andres\n",
            "Gonzalez\n",
            "Rosas\n",
            "16\n",
            "calle aldama articulo 123\n",
            "5/Abril/2009\n",
            "Ciudad Juarez\n"
          ]
        }
      ]
    },
    {
      "cell_type": "code",
      "source": [
        "%%writefile PB302_3.cpp\n",
        "// Programa para imprimir 3 Expectativas de Clase\n",
        "//creado por Andres Omar Gonzalez Rosas\n",
        "//19/Septiembre/2025\n",
        "//PB302_3.cpp\n",
        "#include <iostream>\n",
        "using namespace std;\n",
        "int main ()\n",
        "{\n",
        "  const std::string RED = \"'\\033[31m\";\n",
        "  const std::string GREEN = \"'\\033[32m\";\n",
        "  const std::string YELLOW = \"'\\033[33m\";\n",
        "  const std::string BLUE = \"'\\033[34m\";\n",
        "  const std::string CYAN = \"'\\033[35m\";\n",
        "  const std::string WHITE = \"'\\033[36m\";\n",
        "  const std::string UNDERLINE = \"'\\033[4m\";\n",
        "  const std::string RESET = \"'\\033[0m\";\n",
        "\n",
        "  char Expectativa1 [40]=\"1; Programar bien\";\n",
        "  char Expectativa2 [40]=\"2;Tener logica de programador\";\n",
        "  char Expectativa3 [40]=\"3:Aprender mas sobre programacion\";\n",
        "  cout<<YELLOW<<Expectativa1<<\"\\n\";\n",
        "  cout<<RED<<Expectativa2<<\"\\n\";\n",
        "  cout<<CYAN<<Expectativa3<<\"\\n\";\n",
        "  return 0;\n",
        "}\n"
      ],
      "metadata": {
        "colab": {
          "base_uri": "https://localhost:8080/"
        },
        "id": "G5873Q_ZZp0_",
        "outputId": "b8747d66-679f-4a21-f32e-fd4ba550f390"
      },
      "execution_count": 35,
      "outputs": [
        {
          "output_type": "stream",
          "name": "stdout",
          "text": [
            "Overwriting PB302_3.cpp\n"
          ]
        }
      ]
    },
    {
      "cell_type": "code",
      "source": [
        "!g++ PB302_3.cpp -o PB302_3.exe\n",
        "!./PB302_3.exe"
      ],
      "metadata": {
        "colab": {
          "base_uri": "https://localhost:8080/"
        },
        "id": "GzR6XnFjeqLn",
        "outputId": "bb0b887b-260d-4f82-f493-38d7b97b1743"
      },
      "execution_count": 36,
      "outputs": [
        {
          "output_type": "stream",
          "name": "stdout",
          "text": [
            "'\u001b[33m1; Programar bien\n",
            "'\u001b[31m2;Tener logica de programador\n",
            "'\u001b[35m3:Aprender mas sobre programacion\n"
          ]
        }
      ]
    },
    {
      "cell_type": "code",
      "source": [
        "%%writefile PB302_4.cpp\n",
        "//Programa Póster de Vida\n",
        "// creado por Andres Omar Gonzalez Rosas\n",
        "//19/septiembre/2025\n",
        "//PB302_4.cpp\n",
        "#include <iostream>\n",
        "using namespace std;\n",
        "int main ()\n",
        "{\n",
        "  const std::string RED = \"'\\033[31m\";\n",
        "  const std::string GREEN = \"'\\033[32m\";\n",
        "  const std::string YELLOW = \"'\\033[33m\";\n",
        "  const std::string BLUE = \"'\\033[34m\";\n",
        "  const std::string CYAN = \"'\\033[35m\";\n",
        "  const std::string WHITE = \"'\\033[36m\";\n",
        "  const std::string UNDERLINE = \"'\\033[4m\";\n",
        "  const std::string RESET = \"'\\033[0m\";\n",
        "\n",
        "  char Habilidades1 [40]=\"1; Aprendo Rapido\";\n",
        "  char Habilidades2 [40]=\"2;Soy rapido escribiendo\"\n",
        "  char Destrezas1 [40]=\"1; se hacer manualidades eficientemente\";\n",
        "  char Destrezas2 [40]=\"2; Soy fuerte \"\n",
        "  char Conocimientos1 [40]=\"1; Se de filosofia\";\n",
        "  char Conocimiento2 [40]=\"2; Se de electricidad\"\n",
        "  char Fortalezas1 [40]=\"1; soy fuerte mentalmente\"\n",
        "  char Fortalezas2 [40]=\"2; soy agil\"\n",
        "  char Debilidades1 [40]=\"1; soy egocentrico\"\n",
        "  char Debilidades2 [40]=\"2; soy enojon\"\n",
        "  char Metas1 [40]=\"1; Tener hijos\"\n",
        "  char Metas2 [40]=\"2; Tener mucho dinero\"\n",
        "  char Pasatiempos1 [40]=\"1; Jugar video juegos\"\n",
        "  char Pasatiempos2 [40]=\"2; leer\"\n",
        "  cout<<YELLOW<<Habilidades1<<\"\\n\"\n",
        "  cout<<RED<<Habilidades2<<\"\\n\"\n",
        "  cout<<BLUE<<Destrezas1<<\"\\n\"\n",
        "  cout<<CYAN<<Destrezas2<<\"\\n\"\n",
        "  cout<<WHITE<<Conocimientos1<<\"\\n\"\n",
        "  cout<<WHITE<<Conocimientos2<<\"\\n\"\n",
        "\n",
        "\n",
        "}"
      ],
      "metadata": {
        "id": "BXIu0_XqlQfv"
      },
      "execution_count": null,
      "outputs": []
    }
  ]
}